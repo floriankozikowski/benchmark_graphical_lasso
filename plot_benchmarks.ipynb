{
  "cells": [
    {
      "cell_type": "markdown",
      "metadata": {},
      "source": [
        "\n",
        "# Benchmarking\n",
        "\n",
        "We compare the performance of the Graphical Lasso solvers implemented in ``GGLasso`` to two commonly used packages, i.e.\n",
        "\n",
        "* [regain](https://github.com/fdtomasi/regain) : contains an ADMM solver which is doing almost the same operations as ``ADMM_SGL``. For details, see the original paper. [ref3]_\n",
        "\n",
        "* [sklearn](https://scikit-learn.org/stable/modules/generated/sklearn.covariance.GraphicalLasso.html#sklearn.covariance.GraphicalLasso): by default uses the coordinate descent algorithm which was originally proposed by Friedman et al. [ref1]_ \n",
        "\n",
        "The results can be generated using the notebook in ``benchmarks/benchmarks.ipynb`` in the Github repository.\n",
        "From ``GGLasso`` we use the standard solver ``ADMM_SGL`` labeled by **gglasso** and the block-wise solver labeled by **gglasso-block**. For details, we refer to `SGL solver`.\n"
      ]
    },
    {
      "cell_type": "markdown",
      "metadata": {},
      "source": [
        "see: https://gglasso.readthedocs.io/en/latest/auto_examples/plot_benchmarks.html#sphx-glr-auto-examples-plot-benchmarks-py"
      ]
    },
    {
      "cell_type": "code",
      "execution_count": null,
      "metadata": {
        "collapsed": false
      },
      "outputs": [
        {
          "ename": "ModuleNotFoundError",
          "evalue": "No module named 'gallery_helper'",
          "output_type": "error",
          "traceback": [
            "\u001b[31m---------------------------------------------------------------------------\u001b[39m",
            "\u001b[31mModuleNotFoundError\u001b[39m                       Traceback (most recent call last)",
            "\u001b[36mCell\u001b[39m\u001b[36m \u001b[39m\u001b[32mIn[1]\u001b[39m\u001b[32m, line 4\u001b[39m\n\u001b[32m      1\u001b[39m \u001b[38;5;28;01mimport\u001b[39;00m\u001b[38;5;250m \u001b[39m\u001b[34;01mpandas\u001b[39;00m\u001b[38;5;250m \u001b[39m\u001b[38;5;28;01mas\u001b[39;00m\u001b[38;5;250m \u001b[39m\u001b[34;01mpd\u001b[39;00m\n\u001b[32m      2\u001b[39m \u001b[38;5;28;01mimport\u001b[39;00m\u001b[38;5;250m \u001b[39m\u001b[34;01mnumpy\u001b[39;00m\u001b[38;5;250m \u001b[39m\u001b[38;5;28;01mas\u001b[39;00m\u001b[38;5;250m \u001b[39m\u001b[34;01mnp\u001b[39;00m\n\u001b[32m----> \u001b[39m\u001b[32m4\u001b[39m \u001b[38;5;28;01mfrom\u001b[39;00m\u001b[38;5;250m \u001b[39m\u001b[34;01mgallery_helper\u001b[39;00m\u001b[38;5;250m \u001b[39m\u001b[38;5;28;01mimport\u001b[39;00m plot_bm\n",
            "\u001b[31mModuleNotFoundError\u001b[39m: No module named 'gallery_helper'"
          ]
        }
      ],
      "source": [
        "import pandas as pd\n",
        "import numpy as np\n",
        "\n",
        "from gallery_helper import plot_bm"
      ]
    },
    {
      "cell_type": "markdown",
      "metadata": {},
      "source": []
    },
    {
      "cell_type": "markdown",
      "metadata": {},
      "source": [
        "## Synthetic power-law networks\n",
        "We compare the solvers for a SGL problem using synthetic sparse powerlaw networks, which are generated as described in [ref2]_.\n",
        "The solvers are tested for different values of $\\lambda_1$ and different dimensionalities. These values are printed below.\n",
        "We solve a SGL problem using each of the solvers independently, but using the same CPUs with 64GB of RAM in total.\n",
        "\n",
        "The results were generated on a machine equipped with `AMD Opteron(tm) 6378 @ 1.40GHz (max 2.40 GHz) (8 Cores per socket, hyper-threading)`.\n",
        "\n",
        "\n"
      ]
    },
    {
      "cell_type": "code",
      "execution_count": null,
      "metadata": {
        "collapsed": false
      },
      "outputs": [],
      "source": [
        "df = pd.read_csv(\"../data/synthetic/bm5000.csv\", index_col = 0)\n",
        "df.reset_index(drop=True)"
      ]
    },
    {
      "cell_type": "code",
      "execution_count": null,
      "metadata": {
        "collapsed": false
      },
      "outputs": [],
      "source": [
        "all_p_N= list(pd.unique(list(zip(df.p, df.N))))\n",
        "print(\"Dimensionality and sample size: (p,N) =\", all_p_N )\n",
        "\n",
        "all_l1 = pd.unique(df.l1)\n",
        "print(\"Values of lambda_1:  =\", all_l1 )"
      ]
    },
    {
      "cell_type": "markdown",
      "metadata": {},
      "source": [
        "## Setup\n",
        "Each solver terminates after a given number of maximum iterations or when some optimality condition is met. Hence, the performance is difficult to compare as these optimality criteria may differ.\n",
        "Thus, we select a range of values for relative (rtol) and absolute (tol) tolerance (used in ADMM) and similarly tolerance values for ``sklearn``.\n",
        "\n"
      ]
    },
    {
      "cell_type": "markdown",
      "metadata": {},
      "source": [
        "## Calculating the accuracy \n",
        "\n",
        "After solving each of the problems which each solver for different tolerance values, we compare the obtained solutions to a reference solution, denoted by $Z^\\ast$. \n",
        "\n",
        "$Z^\\ast$ is obtained by solving a SGL problem by one of the solvers for very small tolerance values (we used ``regain`` and set ``tol=rtol=1e-10``).\n",
        "Finally, for a solution $Z$, we calculate its accuracy using the normalized Euclidean distance:\n",
        "\n",
        "\\begin{align}\\text{accuracy}(Z) =  \\frac{\\|Z^\\ast - Z \\|}{ \\| Z^\\ast\\| }.\\end{align}\n",
        "\n"
      ]
    },
    {
      "cell_type": "markdown",
      "metadata": {},
      "source": [
        "## Runtime and accuracy with respect to $\\lambda_1$.\n",
        "\n",
        "Now, determine a maximal accuracy $\\epsilon$. For each solver, we now select the run with minimal runtime where $\\text{accuracy}(Z) \\leq \\epsilon$ is fulfilled. \n",
        "We plot the results for two values of $\\epsilon$:\n",
        "\n",
        "\n"
      ]
    },
    {
      "cell_type": "markdown",
      "metadata": {},
      "source": [
        "## Accuracy of $\\epsilon=5\\cdot10^{-3}$\n",
        "\n",
        "\n"
      ]
    },
    {
      "cell_type": "code",
      "execution_count": null,
      "metadata": {
        "collapsed": false
      },
      "outputs": [],
      "source": [
        "plot_bm(df, min_acc= 5e-3, lambda_list=all_l1)"
      ]
    },
    {
      "cell_type": "markdown",
      "metadata": {},
      "source": [
        "## Accuracy of $\\epsilon=5\\cdot10^{-2}$\n",
        "\n",
        "\n"
      ]
    },
    {
      "cell_type": "code",
      "execution_count": null,
      "metadata": {
        "collapsed": false
      },
      "outputs": [],
      "source": [
        "plot_bm(df, min_acc = 5e-2, lambda_list=all_l1)"
      ]
    }
  ],
  "metadata": {
    "kernelspec": {
      "display_name": "gl_bench",
      "language": "python",
      "name": "python3"
    },
    "language_info": {
      "codemirror_mode": {
        "name": "ipython",
        "version": 3
      },
      "file_extension": ".py",
      "mimetype": "text/x-python",
      "name": "python",
      "nbconvert_exporter": "python",
      "pygments_lexer": "ipython3",
      "version": "3.11.13"
    }
  },
  "nbformat": 4,
  "nbformat_minor": 0
}
